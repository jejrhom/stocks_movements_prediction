{
 "cells": [
  {
   "cell_type": "markdown",
   "metadata": {},
   "source": [
    "### Scrap last news company"
   ]
  },
  {
   "cell_type": "code",
   "execution_count": null,
   "metadata": {},
   "outputs": [],
   "source": [
    "def generate_urlNews(name_company):\n",
    "    url = \"https://news.search.yahoo.com/search?q={}\".format(name_company)\n",
    "    return url\n",
    "\n",
    "url_company = generate_urlNews(name_company)"
   ]
  },
  {
   "cell_type": "code",
   "execution_count": null,
   "metadata": {},
   "outputs": [],
   "source": [
    "def scrap_news(url) :\n",
    "    news = {\"titles\":[],\"sources\":[],\"times\":[], \"times_hours\":[],\"links\":[]}\n",
    "    links_list = []\n",
    "    time_hours = 0\n",
    "    response = requests.get(url)\n",
    "    soup = BeautifulSoup(response.text, 'html.parser')\n",
    "    for news_item in soup.find_all('div', class_='NewsArticle'):\n",
    "        title = news_item.find(['h4']).text\n",
    "        time = news_item.find('span', class_='fc-2nd').text\n",
    "        source = news_item.find(\"span\", class_ =\"s-source mr-5 cite-co\").text\n",
    "        link = news_item.find('a')[\"href\"]\n",
    "        # Clean time text and generate hours from publication to order the news in a timely manner\n",
    "        time = time.replace('·', '').strip()\n",
    "        if 'days' in time or 'day' in time :\n",
    "            time_hours = int(time.split(\" \")[0])*24\n",
    "        else : \n",
    "            time_hours = int(time.split(\" \")[0])\n",
    "        news[\"titles\"].append(title)\n",
    "        news[\"sources\"].append(source)\n",
    "        news[\"times\"].append(time)\n",
    "        news[\"times_hours\"].append(time_hours)\n",
    "        news[\"links\"].append(link)\n",
    "    return news\n",
    "\n",
    "newsmetadata = pd.DataFrame(scrap_news(url_company)).sort_values(\"times_hours\")"
   ]
  }
 ],
 "metadata": {
  "kernelspec": {
   "display_name": "Python 3",
   "language": "python",
   "name": "python3"
  },
  "language_info": {
   "codemirror_mode": {
    "name": "ipython",
    "version": 3
   },
   "file_extension": ".py",
   "mimetype": "text/x-python",
   "name": "python",
   "nbconvert_exporter": "python",
   "pygments_lexer": "ipython3",
   "version": "3.7.6"
  }
 },
 "nbformat": 4,
 "nbformat_minor": 4
}
